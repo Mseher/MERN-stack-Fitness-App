{
 "cells": [
  {
   "cell_type": "code",
   "execution_count": 4,
   "id": "89accf81-687d-4562-ad5a-fe1dcf34af06",
   "metadata": {},
   "outputs": [
    {
     "name": "stdout",
     "output_type": "stream",
     "text": [
      "^C\n",
      "Note: you may need to restart the kernel to use updated packages.\n"
     ]
    }
   ],
   "source": [
    "pip install --upgrade pandas\n"
   ]
  },
  {
   "cell_type": "code",
   "execution_count": 5,
   "id": "f8dca0aa-da2f-4e14-8c03-64dc3013899c",
   "metadata": {},
   "outputs": [
    {
     "name": "stdout",
     "output_type": "stream",
     "text": [
      "Inserted data for CLUB4 FITNESS successfully.\n",
      "Inserted data for Core Power Yoga successfully.\n",
      "Inserted data for Fitness SF successfully.\n",
      "Inserted data for Gina G Fitness successfully.\n",
      "Inserted data for Hip Hop successfully.\n",
      "Inserted data for The Princeton Review successfully.\n",
      "Inserted data for Virtual workout successfully.\n",
      "Inserted data for Y PASS successfully.\n",
      "Inserted data for Yoga successfully.\n",
      "Inserted data for CY Dance works successfully.\n",
      "Inserted data for dance and music class successfully.\n",
      "Inserted data for dance studio successfully.\n",
      "Inserted data for FREE Trial Class successfully.\n",
      "Inserted data for https://www.magicdancearts.com/?gclid=EAIaIQobChMIkvGIhYrt-gIVcCqtBh0KLwzIEAAYASAAEgLD_vD_BwE successfully.\n",
      "Inserted data for R&M Fusion successfully.\n",
      "Inserted data for 17th Reasons Athletic club successfully.\n",
      "Inserted data for Advance Wellness 14 Days Trial Membership successfully.\n",
      "Inserted data for Barre successfully.\n",
      "Inserted data for barre3 Class successfully.\n",
      "Inserted data for Brazilian Jiu Jitsu successfully.\n",
      "Inserted data for City Sport club successfully.\n",
      "Inserted data for CROSSFIT GYM MEMBERSHIP successfully.\n",
      "Inserted data for Crunch Fitness - Deisel successfully.\n",
      "Inserted data for flow fitness successfully.\n",
      "Inserted data for free trial find class CARDIO & HIIT CYCLE DANCE MIND-BODY STRENGTH ACTIVE AGING VIRTUAL successfully.\n",
      "Inserted data for Free Zumba in the park successfully.\n",
      "Inserted data for JCCSF Fitness Center successfully.\n",
      "Inserted data for KOI Fitness successfully.\n",
      "Inserted data for LA Fitness successfully.\n",
      "Inserted data for live fit gym wellness club successfully.\n",
      "Inserted data for lunx fitness club successfully.\n",
      "Inserted data for orangetheory successfully.\n",
      "Inserted data for Planet Fitness successfully.\n",
      "Inserted data for Rival Fitness successfully.\n",
      "Inserted data for strength camp sf successfully.\n",
      "Inserted data for The Class successfully.\n",
      "Inserted data for Ymca successfully.\n",
      "Inserted data for Yoga Vinyasa successfully.\n"
     ]
    }
   ],
   "source": [
    "import pandas as pd\n",
    "from pymongo import MongoClient\n",
    "from bson import Binary\n",
    "from PIL import Image\n",
    "import os\n",
    "\n",
    "# Function to convert image to binary data\n",
    "def read_image(file_path):\n",
    "    try:\n",
    "        with open(file_path, \"rb\") as f:\n",
    "            image_binary = Binary(f.read())\n",
    "        return image_binary\n",
    "    except FileNotFoundError:\n",
    "        print(f\"Error: File not found at {file_path}\")\n",
    "        return None\n",
    "    except Exception as e:\n",
    "        print(f\"Error reading image: {e}\")\n",
    "        return None\n",
    "\n",
    "# Function to insert venue data into MongoDB\n",
    "def insert_venue_data(db, collection, venue_data):\n",
    "    try:\n",
    "        db[collection].insert_one(venue_data)\n",
    "        print(f\"Inserted data for {venue_data['className']} successfully.\")\n",
    "    except Exception as e:\n",
    "        print(f\"Error inserting data: {e}\")\n",
    "\n",
    "# Connect to MongoDB\n",
    "client = MongoClient('localhost', 27017)\n",
    "db = client['bookMyTrial']\n",
    "collection = 'venues'\n",
    "\n",
    "# Read Excel file\n",
    "excel_file_path = 'final.csv'\n",
    "df = pd.read_csv(excel_file_path)\n",
    "\n",
    "# Iterate through rows and insert data into MongoDB\n",
    "for index, row in df.iterrows():\n",
    "    file_path = row['img_path']\n",
    "    # Remove non-ASCII characters from file path\n",
    "    file_path = ''.join(char for char in file_path if ord(char) < 128)\n",
    "    \n",
    "    venue_data = {\n",
    "        'classDuration': str(row['classDuration']),\n",
    "        'classInfo': str(row['classInfo']),\n",
    "        'classMapURL': str(row['classMapURL']),\n",
    "        'className': str(row['className']),\n",
    "        'classTrialURL': str(row['classTrialURL']),\n",
    "        'dance': bool(row['dance']),\n",
    "        'fitness': bool(row['fitness']),\n",
    "        'other': bool(row['other']),\n",
    "        'address': str(row['address']),\n",
    "        'latitude': float(row['latitude']),\n",
    "        'longitude': float(row['longitude']),\n",
    "        'city': str(row['city']),\n",
    "        'county': str(row['county']),\n",
    "        'state': str(row['state']),\n",
    "        'image': read_image(file_path)  # Assuming 'img_path' is the column name for the image path\n",
    "    }\n",
    "    \n",
    "    # Insert data into MongoDB\n",
    "    insert_venue_data(db, collection, venue_data)\n",
    "\n",
    "# Close MongoDB connection\n",
    "client.close()\n"
   ]
  },
  {
   "cell_type": "code",
   "execution_count": 6,
   "id": "1c8dd5c9-f0b3-47cd-82a6-feb71a9de730",
   "metadata": {},
   "outputs": [
    {
     "name": "stderr",
     "output_type": "stream",
     "text": [
      "IOPub data rate exceeded.\n",
      "The Jupyter server will temporarily stop sending output\n",
      "to the client in order to avoid crashing it.\n",
      "To change this limit, set the config variable\n",
      "`--ServerApp.iopub_data_rate_limit`.\n",
      "\n",
      "Current values:\n",
      "ServerApp.iopub_data_rate_limit=1000000.0 (bytes/sec)\n",
      "ServerApp.rate_limit_window=3.0 (secs)\n",
      "\n"
     ]
    },
    {
     "name": "stdout",
     "output_type": "stream",
     "text": [
      "Total documents in the collection: 38\n"
     ]
    }
   ],
   "source": [
    "from pymongo import MongoClient\n",
    "\n",
    "# Connect to MongoDB\n",
    "client = MongoClient('mongodb://localhost:27017')\n",
    "db = client['bookMyTrial']\n",
    "collection = db['venues']  # Replace with your actual collection name\n",
    "\n",
    "# Query the collection and print the documents\n",
    "documents = collection.find()\n",
    "\n",
    "for document in documents:\n",
    "    print(document)\n",
    "\n",
    "# Alternatively, you can check the count of documents\n",
    "document_count = collection.count_documents({})\n",
    "print(f'Total documents in the collection: {document_count}')\n",
    "\n",
    "# Close the MongoDB connection\n",
    "client.close()\n"
   ]
  },
  {
   "cell_type": "code",
   "execution_count": null,
   "id": "ea6f4e86-9958-4700-af06-2c83d11803a6",
   "metadata": {},
   "outputs": [],
   "source": []
  }
 ],
 "metadata": {
  "kernelspec": {
   "display_name": "Python 3 (ipykernel)",
   "language": "python",
   "name": "python3"
  },
  "language_info": {
   "codemirror_mode": {
    "name": "ipython",
    "version": 3
   },
   "file_extension": ".py",
   "mimetype": "text/x-python",
   "name": "python",
   "nbconvert_exporter": "python",
   "pygments_lexer": "ipython3",
   "version": "3.10.4"
  }
 },
 "nbformat": 4,
 "nbformat_minor": 5
}
