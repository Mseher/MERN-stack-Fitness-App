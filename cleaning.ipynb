{
 "cells": [
  {
   "cell_type": "code",
   "execution_count": 1,
   "id": "17f56935-fdd0-4c93-abbe-fcdfc7a5d48f",
   "metadata": {},
   "outputs": [],
   "source": [
    "import pandas as pd\n",
    "\n",
    "# Load your data into a Pandas DataFrame\n",
    "df = pd.read_excel('Classpass work.xlsx')\n",
    "\n",
    "# Drop duplicates based on 'Answer.classMapURL'\n",
    "df_cleaned = df.drop_duplicates(subset='Answer.classMapURL', keep='first')\n",
    "\n",
    "# Additional cleaning steps if needed\n",
    "# For example, you might want to handle missing values\n",
    "df_cleaned.dropna(inplace=True)\n",
    "\n",
    "# Save the cleaned data to a new file\n",
    "df_cleaned.to_excel('cleaned_data.xlsx', index=False)\n"
   ]
  },
  {
   "cell_type": "code",
   "execution_count": null,
   "id": "eb70bbf6-d92f-4287-807d-a537890802df",
   "metadata": {},
   "outputs": [],
   "source": [
    "# Load Excel data into a Pandas DataFrame\n",
    "df = pd.read_excel('cleaned_data.xlsx')\n",
    "\n",
    "# Display the DataFrame\n",
    "print(df)"
   ]
  }
 ],
 "metadata": {
  "kernelspec": {
   "display_name": "Python 3 (ipykernel)",
   "language": "python",
   "name": "python3"
  },
  "language_info": {
   "codemirror_mode": {
    "name": "ipython",
    "version": 3
   },
   "file_extension": ".py",
   "mimetype": "text/x-python",
   "name": "python",
   "nbconvert_exporter": "python",
   "pygments_lexer": "ipython3",
   "version": "3.10.4"
  }
 },
 "nbformat": 4,
 "nbformat_minor": 5
}
